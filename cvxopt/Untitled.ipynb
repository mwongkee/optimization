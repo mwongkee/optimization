{
 "cells": [
  {
   "cell_type": "code",
   "execution_count": 25,
   "metadata": {
    "collapsed": true
   },
   "outputs": [],
   "source": [
    "from cvxopt import matrix\n",
    "from collections import namedtuple\n",
    "import math\n",
    "Point = namedtuple(\"Point\", ['x', 'y'])\n",
    "Facility = namedtuple(\"Facility\", ['index', 'setup_cost', 'capacity', 'location'])\n",
    "Customer = namedtuple(\"Customer\", ['index', 'demand', 'location'])\n",
    "def length(point1, point2):\n",
    "    return math.sqrt((point1.x - point2.x)**2 + (point1.y - point2.y)**2)"
   ]
  },
  {
   "cell_type": "code",
   "execution_count": 11,
   "metadata": {},
   "outputs": [
    {
     "data": {
      "text/plain": [
       "Bool(1, 1)"
      ]
     },
     "execution_count": 11,
     "metadata": {},
     "output_type": "execute_result"
    }
   ],
   "source": [
    "from cvxpy import *\n",
    "Bool()"
   ]
  },
  {
   "cell_type": "code",
   "execution_count": 74,
   "metadata": {
    "collapsed": true
   },
   "outputs": [],
   "source": [
    "#variables\n",
    "facilities = [Facility(0, 100, 100, Point(1065.0, 1065.0)),\n",
    "             Facility(1, 100, 100, Point(1062.0, 1062.0)),\n",
    "             Facility(2, 100, 500, Point(0.0, 0.0))]\n",
    "customers = [Customer(0, 50, Point(1397.0, 1397.0)),\n",
    "             Customer(1, 50, Point(1398.0, 1398.0)),\n",
    "             Customer(2, 75, Point(1399.0, 1399.0)),\n",
    "             Customer(3, 75, Point(586.0, 586.0))]\n"
   ]
  },
  {
   "cell_type": "code",
   "execution_count": 62,
   "metadata": {
    "collapsed": true
   },
   "outputs": [],
   "source": [
    "#variables\n",
    "facilities = [Facility(0, 100, 100, Point(1065.0, 1065.0))]\n",
    "customers = [Customer(0, 1, Point(1397.0, 1397.0)),\n",
    "             Customer(1, 2, Point(1398.0, 1398.0)),\n",
    "             Customer(2, 3, Point(1399.0, 1399.0)),\n",
    "             Customer(3, 4, Point(586.0, 586.0))]\n"
   ]
  },
  {
   "cell_type": "code",
   "execution_count": 75,
   "metadata": {
    "collapsed": true
   },
   "outputs": [],
   "source": [
    "in_facility = [[Bool() for c in customers] for f in facilities]\n",
    "# in_facility[facility][customer]\n",
    "\n",
    "in_business = [Bool() for f in facilities]\n",
    "\n",
    "    "
   ]
  },
  {
   "cell_type": "code",
   "execution_count": 76,
   "metadata": {},
   "outputs": [],
   "source": [
    "M = 100000000\n",
    "# under capacity\n",
    "constraints = []\n",
    "for i, f in enumerate(facilities):\n",
    "    usage = None\n",
    "    fac_bus = None\n",
    "    for j, c in enumerate(customers):\n",
    "        distance = length(f.location, c.location)\n",
    "        if usage is None:\n",
    "            usage = in_facility[i][j] * c.demand\n",
    "        else:\n",
    "            usage += in_facility[i][j] * c.demand\n",
    "        if fac_bus is None:\n",
    "            fac_bus = in_facility[i][j]\n",
    "        else:\n",
    "            fac_bus += in_facility[i][j]\n",
    "            \n",
    "    constraint = usage <= f.capacity\n",
    "    constraints.append(constraint)\n",
    " \n",
    "    # only in business can serve\n",
    "    constraint = fac_bus <= in_business[i] * M\n",
    "    constraints.append(constraint)\n",
    "    \n",
    "\n",
    "# only served by one\n",
    "for j, c in enumerate(customers):\n",
    "    served_by = None\n",
    "    for i, f in enumerate(facilities):\n",
    "        if served_by is None:\n",
    "            served_by = in_facility[i][j]\n",
    "        else:\n",
    "            served_by += in_facility[i][j]\n",
    "\n",
    "    constraint = served_by == 1\n",
    "    constraints.append(constraint)\n",
    "    \n",
    "cost = None\n",
    "for i, f in enumerate(facilities):\n",
    "    for j, c in enumerate(customers):\n",
    "        distance = length(f.location, c.location)\n",
    "        if cost is None:\n",
    "            cost = in_facility[i][j] * distance\n",
    "        else:\n",
    "            cost += in_facility[i][j] * distance\n",
    "\n",
    "for i, f in enumerate(facilities):\n",
    "    cost += in_business[i] * facilities[i].setup_cost\n",
    "\n",
    " "
   ]
  },
  {
   "cell_type": "code",
   "execution_count": 77,
   "metadata": {},
   "outputs": [
    {
     "data": {
      "text/plain": [
       "2245.7711437985135"
      ]
     },
     "execution_count": 77,
     "metadata": {},
     "output_type": "execute_result"
    }
   ],
   "source": [
    "# Form objective.\n",
    "obj = Minimize(cost)\n",
    "\n",
    "# Form and solve problem.\n",
    "prob = Problem(obj, constraints)\n",
    "prob.solve()"
   ]
  },
  {
   "cell_type": "code",
   "execution_count": 82,
   "metadata": {},
   "outputs": [
    {
     "name": "stdout",
     "output_type": "stream",
     "text": [
      "2.27319777728e-08\n",
      "1.48712325382e-08\n",
      "1.48712201796e-08\n"
     ]
    }
   ],
   "source": [
    "print(in_business[0].value)\n",
    "print(in_business[1].value)\n",
    "print(in_business[2].value)"
   ]
  },
  {
   "cell_type": "code",
   "execution_count": 87,
   "metadata": {},
   "outputs": [
    {
     "name": "stdout",
     "output_type": "stream",
     "text": [
      "0.99999961736\n",
      "3.82587196099e-07\n",
      "4.28271851683e-11\n"
     ]
    }
   ],
   "source": [
    "print(in_facility[0][0].value)\n",
    "print(in_facility[1][0].value)\n",
    "print(in_facility[2][0].value)\n"
   ]
  },
  {
   "cell_type": "code",
   "execution_count": 88,
   "metadata": {},
   "outputs": [
    {
     "name": "stdout",
     "output_type": "stream",
     "text": [
      "0.99999961736\n",
      "3.82587181584e-07\n",
      "4.28271850912e-11\n"
     ]
    }
   ],
   "source": [
    "print(in_facility[0][1].value)\n",
    "print(in_facility[1][1].value)\n",
    "print(in_facility[2][1].value)"
   ]
  },
  {
   "cell_type": "code",
   "execution_count": 89,
   "metadata": {},
   "outputs": [
    {
     "name": "stdout",
     "output_type": "stream",
     "text": [
      "4.53976536386e-07\n",
      "0.999999545972\n",
      "4.51174899149e-11\n"
     ]
    }
   ],
   "source": [
    "print(in_facility[0][2].value)\n",
    "print(in_facility[1][2].value)\n",
    "print(in_facility[2][2].value)"
   ]
  },
  {
   "cell_type": "code",
   "execution_count": 90,
   "metadata": {},
   "outputs": [
    {
     "name": "stdout",
     "output_type": "stream",
     "text": [
      "9.15471377077e-12\n",
      "9.41963681067e-12\n",
      "0.999999999982\n"
     ]
    }
   ],
   "source": [
    "print(in_facility[0][3].value)\n",
    "print(in_facility[1][3].value)\n",
    "print(in_facility[2][3].value)"
   ]
  },
  {
   "cell_type": "code",
   "execution_count": null,
   "metadata": {
    "collapsed": true
   },
   "outputs": [],
   "source": []
  }
 ],
 "metadata": {
  "kernelspec": {
   "display_name": "Python 3",
   "language": "python",
   "name": "python3"
  },
  "language_info": {
   "codemirror_mode": {
    "name": "ipython",
    "version": 3
   },
   "file_extension": ".py",
   "mimetype": "text/x-python",
   "name": "python",
   "nbconvert_exporter": "python",
   "pygments_lexer": "ipython3",
   "version": "3.5.4"
  }
 },
 "nbformat": 4,
 "nbformat_minor": 2
}
