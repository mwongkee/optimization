{
 "cells": [
  {
   "cell_type": "code",
   "execution_count": 25,
   "metadata": {
    "collapsed": true
   },
   "outputs": [],
   "source": [
    "from cvxopt import matrix\n",
    "from collections import namedtuple\n",
    "import math\n",
    "Point = namedtuple(\"Point\", ['x', 'y'])\n",
    "Facility = namedtuple(\"Facility\", ['index', 'setup_cost', 'capacity', 'location'])\n",
    "Customer = namedtuple(\"Customer\", ['index', 'demand', 'location'])\n",
    "def length(point1, point2):\n",
    "    return math.sqrt((point1.x - point2.x)**2 + (point1.y - point2.y)**2)"
   ]
  },
  {
   "cell_type": "code",
   "execution_count": 11,
   "metadata": {},
   "outputs": [
    {
     "data": {
      "text/plain": [
       "Bool(1, 1)"
      ]
     },
     "execution_count": 11,
     "metadata": {},
     "output_type": "execute_result"
    }
   ],
   "source": [
    "from cvxpy import *\n",
    "Bool()"
   ]
  },
  {
   "cell_type": "code",
   "execution_count": 10,
   "metadata": {
    "collapsed": true
   },
   "outputs": [],
   "source": [
    "#variables\n",
    "facilities = [Facility(0, 100, 100, Point(1065.0, 1065.0)),\n",
    "             Facility(1, 100, 100, Point(1062.0, 1062.0)),\n",
    "             Facility(2, 100, 500, Point(0.0, 0.0))]\n",
    "customers = [Customer(0, 50, Point(1397.0, 1397.0)),\n",
    "             Customer(1, 50, Point(1398.0, 1398.0)),\n",
    "             Customer(2, 75, Point(1399.0, 1399.0)),\n",
    "             Customer(3, 75, Point(586.0, 586.0))]\n"
   ]
  },
  {
   "cell_type": "code",
   "execution_count": 62,
   "metadata": {
    "collapsed": true
   },
   "outputs": [],
   "source": [
    "#variables\n",
    "facilities = [Facility(0, 100, 100, Point(1065.0, 1065.0))]\n",
    "customers = [Customer(0, 1, Point(1397.0, 1397.0)),\n",
    "             Customer(1, 2, Point(1398.0, 1398.0)),\n",
    "             Customer(2, 3, Point(1399.0, 1399.0)),\n",
    "             Customer(3, 4, Point(586.0, 586.0))]\n"
   ]
  },
  {
   "cell_type": "code",
   "execution_count": 63,
   "metadata": {
    "collapsed": true
   },
   "outputs": [],
   "source": [
    "in_facility = [[Bool() for c in customers] for f in facilities]\n",
    "# in_facility[facility][customer]\n",
    "\n",
    "in_business = [Bool() for f in facilities]\n",
    "\n",
    "    "
   ]
  },
  {
   "cell_type": "code",
   "execution_count": 68,
   "metadata": {
    "collapsed": true
   },
   "outputs": [],
   "source": [
    "M = 100000000\n",
    "# under capacity\n",
    "constraints = []\n",
    "for i, f in enumerate(facilities):\n",
    "    usage = None\n",
    "    fac_bus = None\n",
    "    for j, c in enumerate(customers):\n",
    "        distance = length(f.location, c.location)\n",
    "        if usage is None:\n",
    "            usage = in_facility[i][j] * c.demand\n",
    "        else:\n",
    "            usage += in_facility[i][j] * c.demand\n",
    "        if fac_bus is None:\n",
    "            fac_bus = in_facility[i][j]\n",
    "        else:\n",
    "            fac_bus += in_facility[i][j]\n",
    "            \n",
    "    constraint = usage <= f.capacity\n",
    "    constraints.append(constraint)\n",
    " \n",
    "    # only in business can serve\n",
    "    constraint = fac_bus <= in_business[i] * M\n",
    "    constraints.append(constraint)\n",
    "    \n",
    "\n",
    "# only served by one\n",
    "for j, c in enumerate(customers):\n",
    "    served_by = None\n",
    "    for i, f in enumerate(facilities):\n",
    "        if served_by is None:\n",
    "            served_by = in_facility[i][j]\n",
    "        else:\n",
    "            served_by += in_facility[i][j]\n",
    "\n",
    "    constraint = served_by == 1\n",
    "    constraints.append(constraint)\n",
    "    \n",
    "cost = None\n",
    "for i, f in enumerate(facilities):\n",
    "    for j, c in enumerate(customers):\n",
    "        distance = length(f.location, c.location)\n",
    "        if cost is None:\n",
    "            cost = in_facility[i][j] * distance\n",
    "        else:\n",
    "            cost += in_facility[i][j] * distance\n",
    "\n",
    "for i, f in enumerate(facilities):\n",
    "    cost += in_business[i] * facilities[i].setup_cost\n",
    "\n",
    " "
   ]
  },
  {
   "cell_type": "code",
   "execution_count": 69,
   "metadata": {},
   "outputs": [
    {
     "data": {
      "text/plain": [
       "inf"
      ]
     },
     "execution_count": 69,
     "metadata": {},
     "output_type": "execute_result"
    }
   ],
   "source": [
    "# Form objective.\n",
    "obj = Minimize(cost)\n",
    "\n",
    "# Form and solve problem.\n",
    "prob = Problem(obj, constraints)\n",
    "prob.solve()"
   ]
  },
  {
   "cell_type": "code",
   "execution_count": null,
   "metadata": {
    "collapsed": true
   },
   "outputs": [],
   "source": []
  }
 ],
 "metadata": {
  "kernelspec": {
   "display_name": "Python 3",
   "language": "python",
   "name": "python3"
  },
  "language_info": {
   "codemirror_mode": {
    "name": "ipython",
    "version": 3
   },
   "file_extension": ".py",
   "mimetype": "text/x-python",
   "name": "python",
   "nbconvert_exporter": "python",
   "pygments_lexer": "ipython3",
   "version": "3.5.4"
  }
 },
 "nbformat": 4,
 "nbformat_minor": 2
}
